{
 "cells": [
  {
   "cell_type": "code",
   "execution_count": 16,
   "id": "7a2038f0",
   "metadata": {},
   "outputs": [
    {
     "data": {
      "text/plain": [
       "2593"
      ]
     },
     "execution_count": 16,
     "metadata": {},
     "output_type": "execute_result"
    }
   ],
   "source": [
    "import pandas as pd\n",
    "import regex # trabalhar com expressões regulares\n",
    "import nltk #caso não funcione, adicione a linha nltk.download('punkt')\n",
    "from nltk.corpus import stopwords\n",
    "from nltk.tokenize import word_tokenize\n",
    "import pandas as pd\n",
    "from sklearn.feature_extraction.text import CountVectorizer\n",
    "from sklearn.model_selection import train_test_split\n",
    "from sklearn.naive_bayes import MultinomialNB\n",
    "from sklearn.metrics import confusion_matrix\n",
    "import matplotlib.pyplot as plt\n",
    "import seaborn as sns\n",
    "from sklearn.metrics import classification_report\n",
    "from goose3 import Goose #para baixar o texto da notícia\n",
    "\n",
    "\n",
    "dados_noticias = pd.read_csv('News_corpus.csv')\n",
    "len(dados_noticias.loc[6090,'preprocessed_news'])"
   ]
  },
  {
   "cell_type": "code",
   "execution_count": 17,
   "id": "4c6c04ee",
   "metadata": {},
   "outputs": [],
   "source": [
    "def remove_stopwords(texto):\n",
    "    stops_list = stopwords.words(\"portuguese\")\n",
    "    word_tokens = word_tokenize(texto)\n",
    "    texto_sem_stops = [w for w in word_tokens if w not in stops_list]\n",
    "    return \" \".join(texto_sem_stops)"
   ]
  },
  {
   "cell_type": "code",
   "execution_count": null,
   "id": "ffe39456",
   "metadata": {},
   "outputs": [],
   "source": [
    "dados_noticias['preprocessed_news'] = dados_noticias['preprocessed_news'].apply(lambda x: regex.sub('[^\\p{Latin}]', u' ', str(x)))\n",
    "dados_noticias['preprocessed_news'] = dados_noticias['preprocessed_news'].apply(lambda x: str(x).lower())\n",
    "dados_noticias['preprocessed_news'] = dados_noticias['preprocessed_news'].apply(remove_stopwords)\n",
    "import spacy\n",
    "nlp = spacy.load('pt_core_news_sm')\n",
    "\n",
    "def spacy_lemmatizer(texto):\n",
    "    word_tokens = nlp(texto)\n",
    "    texto_lematizado = [w.lemma_ for w in word_tokens]\n",
    "    return \" \".join(texto_lematizado)\n",
    "\n",
    "dados_noticias['preprocessed_news'] = dados_noticias['preprocessed_news'].apply(spacy_lemmatizer)\n",
    "\n",
    "vectorizer = CountVectorizer()\n",
    "BoW_matriz = vectorizer.fit_transform(dados_noticias['preprocessed_news'])\n",
    "BoW_dataframe = pd.DataFrame(BoW_matriz.toarray(), columns=vectorizer.get_feature_names())\n",
    "corpus_bow = BoW_dataframe\n",
    "categorias = dados_noticias['label']\n",
    "\n",
    "X_train, X_test, y_train, y_test = train_test_split(\n",
    "                                        corpus_bow, \n",
    "                                        categorias,\n",
    "                                        test_size=0.2)\n",
    "naive_bayes = MultinomialNB()\n",
    "naive_bayes.fit(X_train, y_train)\n",
    "classificacoes = naive_bayes.predict(X_test)\n",
    "\n",
    "print(classification_report(y_test, classificacoes))\n",
    "\n",
    "\n",
    "cm = confusion_matrix(y_test, classificacoes)\n",
    "\n",
    "sns.heatmap(cm, square=True, annot=True, cmap='RdBu', cbar=False,\n",
    "            xticklabels=categorias.unique(),\n",
    "            yticklabels=categorias.unique()\n",
    "           )\n",
    "\n",
    "plt.xlabel(\"Classe real\")\n",
    "plt.ylabel(\"Classe predita\")\n",
    "plt.show()\n"
   ]
  },
  {
   "cell_type": "code",
   "execution_count": null,
   "id": "0d0c7c60",
   "metadata": {},
   "outputs": [],
   "source": []
  }
 ],
 "metadata": {
  "kernelspec": {
   "display_name": "Python 3 (ipykernel)",
   "language": "python",
   "name": "python3"
  },
  "language_info": {
   "codemirror_mode": {
    "name": "ipython",
    "version": 3
   },
   "file_extension": ".py",
   "mimetype": "text/x-python",
   "name": "python",
   "nbconvert_exporter": "python",
   "pygments_lexer": "ipython3",
   "version": "3.8.10"
  }
 },
 "nbformat": 4,
 "nbformat_minor": 5
}
